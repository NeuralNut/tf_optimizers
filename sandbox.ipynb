{
 "cells": [
  {
   "cell_type": "code",
   "execution_count": 1,
   "metadata": {},
   "outputs": [],
   "source": [
    "import numpy as np\n",
    "import tensorflow as tf\n",
    "from sklearn.utils import shuffle\n",
    "from sklearn.model_selection import train_test_split\n",
    "from sklearn.metrics import f1_score\n",
    "\n",
    "from utils import f_props, load_mnist, tf_log\n",
    "from layers import Dense\n",
    "from optimizers import sgd, adamax\n",
    "\n",
    "random_state = 42"
   ]
  },
  {
   "cell_type": "code",
   "execution_count": 46,
   "metadata": {
    "scrolled": true
   },
   "outputs": [
    {
     "name": "stdout",
     "output_type": "stream",
     "text": [
      "[0.0, 0.0]\n",
      "cost: 57.0\n",
      "params: [3600.0, 1400.0]\n",
      "g_params: [-36.0, -14.0]\n",
      "tf.global: [1296.0, 196.0]\n",
      "\n",
      "cost: 9.97309e+07\n",
      "params: [3586.4543, 1387.7242]\n",
      "g_params: [48764.0, 17186.0]\n",
      "tf.global: [2.377929e+09, 2.9535878e+08]\n",
      "\n"
     ]
    }
   ],
   "source": [
    "tf.reset_default_graph() # グラフのリセット\n",
    "\n",
    "# Step1. プレースホルダー・変数の設定\n",
    "## placeholder: データを流し込む変数. データ毎に変わる\n",
    "x = tf.placeholder(tf.float32, name='x')\n",
    "t = tf.placeholder(tf.float32, name='t')\n",
    "\n",
    "## Variable: 変数(重み). データ間で共有される\n",
    "w = tf.Variable(0.0, name='w')\n",
    "b = tf.Variable(0.0, name='b')\n",
    "params = [w, b]\n",
    "\n",
    "# Step2. グラフの構築\n",
    "y = w*x + b\n",
    "\n",
    "# Step3. 誤差関数の設定\n",
    "cost = tf.reduce_mean((y - t)**2)\n",
    "\n",
    "# Step4. 重みの更新則の設定\n",
    "g_params = tf.gradients(cost, params) # 勾配の計算\n",
    "updates = []\n",
    "lr = np.float32(0.01)\n",
    "eps = np.float32(1e-8)\n",
    "for param, g_param in zip(params, g_params):\n",
    "    g2_sum = tf.Variable(np.zeros(param.get_shape(), dtype='float32'), name='g2_sum')\n",
    "    updates.append(g2_sum.assign(g2_sum + g_param**2))\n",
    "    updates.append(param.assign(param - (lr/tf.sqrt(g2_sum + eps))*g_param))\n",
    "train = tf.group(*updates)\n",
    "\n",
    "# Step.5. 学習 (y = 2*x + 3)\n",
    "data_X = np.array([0., 1., 2., 3., 4.])\n",
    "data_y = np.array([3., 5., 7., 9., 11.])\n",
    "\n",
    "sess = tf.Session()\n",
    "sess.run(tf.global_variables_initializer()) # 重みの初期化\n",
    "print(sess.run(params))\n",
    "for i in range(1000):\n",
    "    _cost, _, _g_params = sess.run([cost, train, g_params], feed_dict={x: data_X, t: data_y})\n",
    "    break\n",
    "#     if (i+1)%100==0:\n",
    "#         print('iteration:: %d, cost:: %.3f' % (i+1, _cost))\n",
    "\n",
    "# Step6. 予測\n",
    "print('cost:', _cost)\n",
    "print('params:', sess.run(params))\n",
    "print('g_params:', _g_params)\n",
    "print('tf.global:', sess.run(tf.global_variables()[2:]))\n",
    "print()\n",
    "# print('pred_y:', sess.run(y, feed_dict={x: [5]}))\n",
    "\n",
    "_cost, _, _g_params = sess.run([cost, train, g_params], feed_dict={x: data_X, t: data_y})\n",
    "\n",
    "print('cost:', _cost)\n",
    "print('params:', sess.run(params))\n",
    "print('g_params:', _g_params)\n",
    "print('tf.global:', sess.run(tf.global_variables()[2:]))\n",
    "print()"
   ]
  },
  {
   "cell_type": "code",
   "execution_count": 45,
   "metadata": {},
   "outputs": [
    {
     "data": {
      "text/plain": [
       "[<tf.Variable 'w:0' shape=() dtype=float32_ref>,\n",
       " <tf.Variable 'b:0' shape=() dtype=float32_ref>]"
      ]
     },
     "execution_count": 45,
     "metadata": {},
     "output_type": "execute_result"
    }
   ],
   "source": [
    "params"
   ]
  },
  {
   "cell_type": "code",
   "execution_count": 10,
   "metadata": {},
   "outputs": [
    {
     "data": {
      "text/plain": [
       "[<tf.Tensor 'gradients/mul_grad/Reshape:0' shape=() dtype=float32>,\n",
       " <tf.Tensor 'gradients/add_grad/Reshape_1:0' shape=() dtype=float32>]"
      ]
     },
     "execution_count": 10,
     "metadata": {},
     "output_type": "execute_result"
    }
   ],
   "source": [
    "g_params"
   ]
  },
  {
   "cell_type": "code",
   "execution_count": 11,
   "metadata": {},
   "outputs": [
    {
     "data": {
      "text/plain": [
       "[<tf.Tensor 'Assign:0' shape=() dtype=float32_ref>,\n",
       " <tf.Tensor 'Assign_1:0' shape=() dtype=float32_ref>,\n",
       " <tf.Tensor 'Assign_2:0' shape=() dtype=float32_ref>,\n",
       " <tf.Tensor 'Assign_3:0' shape=() dtype=float32_ref>]"
      ]
     },
     "execution_count": 11,
     "metadata": {},
     "output_type": "execute_result"
    }
   ],
   "source": [
    "updates"
   ]
  },
  {
   "cell_type": "code",
   "execution_count": 23,
   "metadata": {},
   "outputs": [
    {
     "data": {
      "text/plain": [
       "[-36.0, -14.0]"
      ]
     },
     "execution_count": 23,
     "metadata": {},
     "output_type": "execute_result"
    }
   ],
   "source": [
    "_g_params"
   ]
  },
  {
   "cell_type": "code",
   "execution_count": 25,
   "metadata": {},
   "outputs": [
    {
     "data": {
      "text/plain": [
       "[<tf.Variable 'w:0' shape=() dtype=float32_ref>,\n",
       " <tf.Variable 'b:0' shape=() dtype=float32_ref>,\n",
       " <tf.Variable 'g2_sum:0' shape=() dtype=float32_ref>,\n",
       " <tf.Variable 'g2_sum_1:0' shape=() dtype=float32_ref>]"
      ]
     },
     "execution_count": 25,
     "metadata": {},
     "output_type": "execute_result"
    }
   ],
   "source": [
    "tf.global_variables()"
   ]
  },
  {
   "cell_type": "code",
   "execution_count": null,
   "metadata": {},
   "outputs": [],
   "source": []
  },
  {
   "cell_type": "code",
   "execution_count": null,
   "metadata": {
    "collapsed": true
   },
   "outputs": [],
   "source": []
  }
 ],
 "metadata": {
  "kernelspec": {
   "display_name": "Python 3",
   "language": "python",
   "name": "python3"
  },
  "language_info": {
   "codemirror_mode": {
    "name": "ipython",
    "version": 3
   },
   "file_extension": ".py",
   "mimetype": "text/x-python",
   "name": "python",
   "nbconvert_exporter": "python",
   "pygments_lexer": "ipython3",
   "version": "3.6.0"
  }
 },
 "nbformat": 4,
 "nbformat_minor": 2
}
